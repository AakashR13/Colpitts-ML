{
  "nbformat": 4,
  "nbformat_minor": 0,
  "metadata": {
    "colab": {
      "provenance": []
    },
    "kernelspec": {
      "name": "python3",
      "display_name": "Python 3"
    },
    "language_info": {
      "name": "python"
    }
  },
  "cells": [
    {
      "cell_type": "code",
      "execution_count": null,
      "metadata": {
        "id": "L_nBhvaBwbfQ"
      },
      "outputs": [],
      "source": [
        "from __future__ import print_function\n",
        "import patsy\n",
        "from sklearn.model_selection import train_test_split\n",
        "from sklearn.metrics import r2_score\n",
        "from sklearn.metrics import mean_squared_error\n",
        "from sklearn.metrics import mean_absolute_error\n",
        "import tensorflow as tf\n",
        "from sklearn.preprocessing import StandardScaler\n",
        "\n",
        "from tensorflow.keras.optimizers import Adam\n",
        "from keras.models import Sequential\n",
        "from keras.layers import Dense\n",
        "#from keras.optimizers import Adam\n",
        "from keras.callbacks import EarlyStopping\n",
        "\n",
        "from keras.layers import Dense\n",
        "from keras.regularizers import l1\n",
        "import sklearn\n",
        "from sklearn import preprocessing\n",
        "from sklearn.model_selection import train_test_split\n",
        "from sklearn.metrics import r2_score\n",
        "\n",
        "import os\n",
        "import sys\n",
        "import warnings\n",
        "import xlrd \n",
        "import numpy as  np\n",
        "import pandas as pd\n",
        "from math import sqrt\n",
        "import statsmodels.api as sm\n",
        "import statsmodels.formula.api as smf"
      ]
    },
    {
      "cell_type": "code",
      "execution_count": null,
      "metadata": {
        "id": "AgFPP2Iod5c0"
      },
      "outputs": [],
      "source": [
        "%matplotlib inline"
      ]
    },
    {
      "cell_type": "code",
      "execution_count": null,
      "metadata": {
        "id": "B6S13uqUR6Uv",
        "colab": {
          "base_uri": "https://localhost:8080/",
          "height": 206
        },
        "outputId": "b64b741e-9008-45e5-ec98-c0968af570e7"
      },
      "outputs": [
        {
          "output_type": "execute_result",
          "data": {
            "text/plain": [
              "  voltage temperature    frequency\n",
              "1       5          20  1005950.515\n",
              "2       5          21  1012194.995\n",
              "3       5          22  1017407.592\n",
              "4       5          23  1023204.753\n",
              "5       5          24  1029339.752"
            ],
            "text/html": [
              "\n",
              "  <div id=\"df-15c855ba-84e9-46bf-89fd-8b516589a15b\">\n",
              "    <div class=\"colab-df-container\">\n",
              "      <div>\n",
              "<style scoped>\n",
              "    .dataframe tbody tr th:only-of-type {\n",
              "        vertical-align: middle;\n",
              "    }\n",
              "\n",
              "    .dataframe tbody tr th {\n",
              "        vertical-align: top;\n",
              "    }\n",
              "\n",
              "    .dataframe thead th {\n",
              "        text-align: right;\n",
              "    }\n",
              "</style>\n",
              "<table border=\"1\" class=\"dataframe\">\n",
              "  <thead>\n",
              "    <tr style=\"text-align: right;\">\n",
              "      <th></th>\n",
              "      <th>voltage</th>\n",
              "      <th>temperature</th>\n",
              "      <th>frequency</th>\n",
              "    </tr>\n",
              "  </thead>\n",
              "  <tbody>\n",
              "    <tr>\n",
              "      <th>1</th>\n",
              "      <td>5</td>\n",
              "      <td>20</td>\n",
              "      <td>1005950.515</td>\n",
              "    </tr>\n",
              "    <tr>\n",
              "      <th>2</th>\n",
              "      <td>5</td>\n",
              "      <td>21</td>\n",
              "      <td>1012194.995</td>\n",
              "    </tr>\n",
              "    <tr>\n",
              "      <th>3</th>\n",
              "      <td>5</td>\n",
              "      <td>22</td>\n",
              "      <td>1017407.592</td>\n",
              "    </tr>\n",
              "    <tr>\n",
              "      <th>4</th>\n",
              "      <td>5</td>\n",
              "      <td>23</td>\n",
              "      <td>1023204.753</td>\n",
              "    </tr>\n",
              "    <tr>\n",
              "      <th>5</th>\n",
              "      <td>5</td>\n",
              "      <td>24</td>\n",
              "      <td>1029339.752</td>\n",
              "    </tr>\n",
              "  </tbody>\n",
              "</table>\n",
              "</div>\n",
              "      <button class=\"colab-df-convert\" onclick=\"convertToInteractive('df-15c855ba-84e9-46bf-89fd-8b516589a15b')\"\n",
              "              title=\"Convert this dataframe to an interactive table.\"\n",
              "              style=\"display:none;\">\n",
              "        \n",
              "  <svg xmlns=\"http://www.w3.org/2000/svg\" height=\"24px\"viewBox=\"0 0 24 24\"\n",
              "       width=\"24px\">\n",
              "    <path d=\"M0 0h24v24H0V0z\" fill=\"none\"/>\n",
              "    <path d=\"M18.56 5.44l.94 2.06.94-2.06 2.06-.94-2.06-.94-.94-2.06-.94 2.06-2.06.94zm-11 1L8.5 8.5l.94-2.06 2.06-.94-2.06-.94L8.5 2.5l-.94 2.06-2.06.94zm10 10l.94 2.06.94-2.06 2.06-.94-2.06-.94-.94-2.06-.94 2.06-2.06.94z\"/><path d=\"M17.41 7.96l-1.37-1.37c-.4-.4-.92-.59-1.43-.59-.52 0-1.04.2-1.43.59L10.3 9.45l-7.72 7.72c-.78.78-.78 2.05 0 2.83L4 21.41c.39.39.9.59 1.41.59.51 0 1.02-.2 1.41-.59l7.78-7.78 2.81-2.81c.8-.78.8-2.07 0-2.86zM5.41 20L4 18.59l7.72-7.72 1.47 1.35L5.41 20z\"/>\n",
              "  </svg>\n",
              "      </button>\n",
              "      \n",
              "  <style>\n",
              "    .colab-df-container {\n",
              "      display:flex;\n",
              "      flex-wrap:wrap;\n",
              "      gap: 12px;\n",
              "    }\n",
              "\n",
              "    .colab-df-convert {\n",
              "      background-color: #E8F0FE;\n",
              "      border: none;\n",
              "      border-radius: 50%;\n",
              "      cursor: pointer;\n",
              "      display: none;\n",
              "      fill: #1967D2;\n",
              "      height: 32px;\n",
              "      padding: 0 0 0 0;\n",
              "      width: 32px;\n",
              "    }\n",
              "\n",
              "    .colab-df-convert:hover {\n",
              "      background-color: #E2EBFA;\n",
              "      box-shadow: 0px 1px 2px rgba(60, 64, 67, 0.3), 0px 1px 3px 1px rgba(60, 64, 67, 0.15);\n",
              "      fill: #174EA6;\n",
              "    }\n",
              "\n",
              "    [theme=dark] .colab-df-convert {\n",
              "      background-color: #3B4455;\n",
              "      fill: #D2E3FC;\n",
              "    }\n",
              "\n",
              "    [theme=dark] .colab-df-convert:hover {\n",
              "      background-color: #434B5C;\n",
              "      box-shadow: 0px 1px 3px 1px rgba(0, 0, 0, 0.15);\n",
              "      filter: drop-shadow(0px 1px 2px rgba(0, 0, 0, 0.3));\n",
              "      fill: #FFFFFF;\n",
              "    }\n",
              "  </style>\n",
              "\n",
              "      <script>\n",
              "        const buttonEl =\n",
              "          document.querySelector('#df-15c855ba-84e9-46bf-89fd-8b516589a15b button.colab-df-convert');\n",
              "        buttonEl.style.display =\n",
              "          google.colab.kernel.accessAllowed ? 'block' : 'none';\n",
              "\n",
              "        async function convertToInteractive(key) {\n",
              "          const element = document.querySelector('#df-15c855ba-84e9-46bf-89fd-8b516589a15b');\n",
              "          const dataTable =\n",
              "            await google.colab.kernel.invokeFunction('convertToInteractive',\n",
              "                                                     [key], {});\n",
              "          if (!dataTable) return;\n",
              "\n",
              "          const docLinkHtml = 'Like what you see? Visit the ' +\n",
              "            '<a target=\"_blank\" href=https://colab.research.google.com/notebooks/data_table.ipynb>data table notebook</a>'\n",
              "            + ' to learn more about interactive tables.';\n",
              "          element.innerHTML = '';\n",
              "          dataTable['output_type'] = 'display_data';\n",
              "          await google.colab.output.renderOutput(dataTable, element);\n",
              "          const docLink = document.createElement('div');\n",
              "          docLink.innerHTML = docLinkHtml;\n",
              "          element.appendChild(docLink);\n",
              "        }\n",
              "      </script>\n",
              "    </div>\n",
              "  </div>\n",
              "  "
            ]
          },
          "metadata": {},
          "execution_count": 3
        }
      ],
      "source": [
        "headers = [\"voltage\",\"temperature\",\"frequency\"]\n",
        "data = pd.read_csv('Colpits_Dataset.csv', na_values='?',    \n",
        "         header=None,names = headers) \n",
        "data = data.reset_index(drop=True)\n",
        "data = data.iloc[1:] \n",
        "data= data.dropna()\n",
        "data.head()"
      ]
    },
    {
      "cell_type": "code",
      "execution_count": null,
      "metadata": {
        "id": "U1MFXhCtUgvS",
        "colab": {
          "base_uri": "https://localhost:8080/"
        },
        "outputId": "7c19fe63-2845-4ead-dc0b-3d7ec946eded"
      },
      "outputs": [
        {
          "output_type": "stream",
          "name": "stdout",
          "text": [
            "<class 'pandas.core.frame.DataFrame'>\n",
            "RangeIndex: 2091 entries, 1 to 2091\n",
            "Data columns (total 3 columns):\n",
            " #   Column       Non-Null Count  Dtype  \n",
            "---  ------       --------------  -----  \n",
            " 0   voltage      2091 non-null   float64\n",
            " 1   temperature  2091 non-null   int64  \n",
            " 2   frequency    2091 non-null   float64\n",
            "dtypes: float64(2), int64(1)\n",
            "memory usage: 49.1 KB\n"
          ]
        }
      ],
      "source": [
        "data[\"voltage\"]= pd.to_numeric(data['voltage'],errors = 'coerce')\n",
        "data['temperature'] = pd.to_numeric(data['temperature'],errors = 'coerce')\n",
        "data['frequency'] = pd.to_numeric(data['frequency'],errors = 'coerce')\n",
        "data.info()"
      ]
    },
    {
      "cell_type": "code",
      "execution_count": null,
      "metadata": {
        "id": "d4fWgrL9STlx"
      },
      "outputs": [],
      "source": [
        "x= data.drop(['frequency'],axis=1).values\n",
        "y = data['frequency'].values"
      ]
    },
    {
      "cell_type": "code",
      "execution_count": null,
      "metadata": {
        "id": "3dXOMhX3ZFd9",
        "colab": {
          "base_uri": "https://localhost:8080/"
        },
        "outputId": "10b4e240-b391-484e-cc8f-16a8abd0e861"
      },
      "outputs": [
        {
          "output_type": "stream",
          "name": "stdout",
          "text": [
            "1672\n",
            "[7.523026315789461, 40.08851674641164]\n",
            "[1.4705534742238435, 11.845678850686074]\n",
            "419\n",
            "419\n",
            "1672\n",
            "1672\n"
          ]
        }
      ],
      "source": [
        "from sklearn.model_selection import train_test_split\n",
        "x_train, x_test, y_train, y_test = train_test_split(x, y, test_size=0.2)\n",
        "from sklearn.preprocessing import StandardScaler\n",
        "sum = 0\n",
        "dev = 0\n",
        "stddev = [0,0]\n",
        "means = [0,0]\n",
        "\n",
        "scale =1000000\n",
        "y_train /= scale\n",
        "y_test /= scale\n",
        "# \n",
        "# y_train /= np.amax(y_train)\n",
        "# y_test /= np.amax(y_test)\n",
        "\n",
        "size = len(x_train+1)\n",
        "print(size)\n",
        "for i in range (2):\n",
        "  sum = 0\n",
        "  for j in range (size):\n",
        "    sum += x_train[j][i]/size\n",
        "  means[i] = sum\n",
        "\n",
        "for i in range (2):\n",
        "  dev = 0\n",
        "  for j in range (size):\n",
        "    dev = dev + ((x_train[j][i]-means[i])**2)/(size-1)\n",
        "  stddev[i] = sqrt(dev)\n",
        "\n",
        "print(means)\n",
        "print(stddev)\n",
        "#print(x_train[0:4])\n",
        "scaler= StandardScaler()\n",
        "x_train = scaler.fit_transform(x_train)\n",
        "x_test = scaler.transform(x_test)\n",
        "#print(x_train[0:4])\n",
        "print(len(x_test))\n",
        "print(len(y_test))\n",
        "print(len(x_train))\n",
        "print(len(y_train))"
      ]
    },
    {
      "cell_type": "code",
      "execution_count": null,
      "metadata": {
        "id": "cU39Oehkbp-Z",
        "colab": {
          "base_uri": "https://localhost:8080/"
        },
        "outputId": "f59c3e6a-e147-44bd-c917-cbee0fd60631"
      },
      "outputs": [
        {
          "output_type": "execute_result",
          "data": {
            "text/plain": [
              "(419, 2)"
            ]
          },
          "metadata": {},
          "execution_count": 7
        }
      ],
      "source": [
        "x_test.shape"
      ]
    },
    {
      "cell_type": "code",
      "execution_count": null,
      "metadata": {
        "id": "IACfueMpaOvQ",
        "colab": {
          "base_uri": "https://localhost:8080/"
        },
        "outputId": "87c90d52-2961-408a-fc11-288fb2a278db"
      },
      "outputs": [
        {
          "output_type": "stream",
          "name": "stdout",
          "text": [
            "             0         1\n",
            "0     1.208732 -0.851917\n",
            "1     0.256425  1.512521\n",
            "2     0.732579  0.330302\n",
            "3     0.664557 -1.274138\n",
            "4    -0.355773 -0.345252\n",
            "...        ...       ...\n",
            "1667 -1.512146 -0.514140\n",
            "1668  0.392469  0.583635\n",
            "1669  1.616864 -0.514140\n",
            "1670  1.344776  1.343633\n",
            "1671  1.344776  0.752523\n",
            "\n",
            "[1672 rows x 2 columns]\n",
            "             0\n",
            "0     1.064097\n",
            "1     1.362990\n",
            "2     1.183487\n",
            "3     1.031450\n",
            "4     1.111737\n",
            "...        ...\n",
            "1667  1.098147\n",
            "1668  1.215172\n",
            "1669  1.093080\n",
            "1670  1.330721\n",
            "1671  1.237022\n",
            "\n",
            "[1672 rows x 1 columns]\n"
          ]
        }
      ],
      "source": [
        "x_train = pd.DataFrame(x_train)\n",
        "x_test = pd.DataFrame(x_test)\n",
        "y_train = pd.DataFrame(y_train)\n",
        "y_test = pd.DataFrame(y_test)\n",
        "print(x_train)\n",
        "print(y_train)"
      ]
    },
    {
      "cell_type": "code",
      "execution_count": null,
      "metadata": {
        "id": "TgAjhiLUq-so"
      },
      "outputs": [],
      "source": [
        "from tensorflow.keras.optimizers import Adam, SGD, RMSprop, Adadelta, Adamax, Nadam, Ftrl\n",
        "from keras.models import Sequential\n",
        "from keras.layers import Dense, Dropout\n",
        "import keras\n",
        "model= Sequential()\n",
        "model.add(Dense(4,  activation=keras.layers.LeakyReLU(alpha=0.1), input_dim=2))\n",
        "model.add(Dense(2,  activation=keras.layers.LeakyReLU(alpha=0.1)))\n",
        "model.add(Dense(1))"
      ]
    },
    {
      "cell_type": "code",
      "execution_count": null,
      "metadata": {
        "id": "LK3QVdtSoEN7"
      },
      "outputs": [],
      "source": [
        "model.compile(Adam(learning_rate=0.01), 'mse')#,metrics=['accuracy'])"
      ]
    },
    {
      "cell_type": "code",
      "execution_count": null,
      "metadata": {
        "colab": {
          "base_uri": "https://localhost:8080/"
        },
        "id": "-iviIr6Eo2yf",
        "outputId": "c3c99e59-f80a-4920-8109-0d2e30cc7caa"
      },
      "outputs": [
        {
          "output_type": "stream",
          "name": "stdout",
          "text": [
            "Epoch 1/100\n",
            "209/209 [==============================] - 3s 5ms/step - loss: 0.1359 - val_loss: 8.3021e-04\n",
            "Epoch 2/100\n",
            "209/209 [==============================] - 1s 4ms/step - loss: 3.1512e-04 - val_loss: 1.5485e-04\n",
            "Epoch 3/100\n",
            "209/209 [==============================] - 1s 3ms/step - loss: 8.6886e-05 - val_loss: 5.3082e-05\n",
            "Epoch 4/100\n",
            "209/209 [==============================] - 1s 3ms/step - loss: 3.8255e-05 - val_loss: 2.6669e-05\n",
            "Epoch 5/100\n",
            "209/209 [==============================] - 1s 2ms/step - loss: 2.5646e-05 - val_loss: 2.0009e-05\n",
            "Epoch 6/100\n",
            "209/209 [==============================] - 0s 2ms/step - loss: 2.0443e-05 - val_loss: 1.5168e-05\n",
            "Epoch 7/100\n",
            "209/209 [==============================] - 0s 2ms/step - loss: 1.6687e-05 - val_loss: 1.4138e-05\n",
            "Epoch 8/100\n",
            "209/209 [==============================] - 0s 2ms/step - loss: 1.4910e-05 - val_loss: 1.3617e-05\n",
            "Epoch 9/100\n",
            "209/209 [==============================] - 0s 2ms/step - loss: 1.3176e-05 - val_loss: 1.2589e-05\n",
            "Epoch 10/100\n",
            "209/209 [==============================] - 0s 2ms/step - loss: 1.2879e-05 - val_loss: 8.8013e-06\n",
            "Epoch 11/100\n",
            "209/209 [==============================] - 0s 2ms/step - loss: 1.2470e-05 - val_loss: 9.2272e-06\n",
            "Epoch 12/100\n",
            "209/209 [==============================] - 0s 2ms/step - loss: 1.1430e-05 - val_loss: 1.0585e-05\n",
            "Epoch 13/100\n",
            "209/209 [==============================] - 0s 2ms/step - loss: 1.0501e-05 - val_loss: 7.8561e-06\n",
            "Epoch 14/100\n",
            "209/209 [==============================] - 1s 2ms/step - loss: 9.5124e-06 - val_loss: 6.6946e-06\n",
            "Epoch 15/100\n",
            "209/209 [==============================] - 0s 2ms/step - loss: 1.0442e-05 - val_loss: 1.0586e-05\n",
            "Epoch 16/100\n",
            "209/209 [==============================] - 0s 2ms/step - loss: 7.4721e-06 - val_loss: 5.0242e-06\n",
            "Epoch 17/100\n",
            "209/209 [==============================] - 0s 2ms/step - loss: 8.5901e-06 - val_loss: 4.8120e-06\n",
            "Epoch 18/100\n",
            "209/209 [==============================] - 1s 2ms/step - loss: 7.6580e-06 - val_loss: 6.8521e-06\n",
            "Epoch 19/100\n",
            "209/209 [==============================] - 1s 3ms/step - loss: 7.8574e-06 - val_loss: 7.0698e-06\n",
            "Epoch 20/100\n",
            "209/209 [==============================] - 0s 2ms/step - loss: 1.1963e-05 - val_loss: 9.4198e-06\n",
            "Epoch 21/100\n",
            "209/209 [==============================] - 0s 2ms/step - loss: 7.1043e-06 - val_loss: 7.2510e-06\n",
            "Epoch 22/100\n",
            "209/209 [==============================] - 1s 3ms/step - loss: 9.0677e-06 - val_loss: 9.1614e-06\n",
            "Epoch 23/100\n",
            "209/209 [==============================] - 1s 3ms/step - loss: 1.3228e-05 - val_loss: 1.4048e-05\n",
            "Epoch 24/100\n",
            "209/209 [==============================] - 1s 3ms/step - loss: 1.0609e-05 - val_loss: 5.9530e-06\n",
            "Epoch 25/100\n",
            "209/209 [==============================] - 1s 4ms/step - loss: 1.2552e-05 - val_loss: 7.6043e-06\n",
            "Epoch 26/100\n",
            "209/209 [==============================] - 1s 3ms/step - loss: 1.4485e-05 - val_loss: 5.8575e-06\n",
            "Epoch 27/100\n",
            "209/209 [==============================] - 1s 4ms/step - loss: 1.5345e-05 - val_loss: 9.0234e-06\n",
            "Epoch 28/100\n",
            "209/209 [==============================] - 0s 2ms/step - loss: 2.7099e-05 - val_loss: 1.1956e-05\n",
            "Epoch 29/100\n",
            "209/209 [==============================] - 0s 2ms/step - loss: 1.2819e-05 - val_loss: 3.9901e-06\n",
            "Epoch 30/100\n",
            "209/209 [==============================] - 0s 2ms/step - loss: 2.3536e-05 - val_loss: 1.0465e-04\n",
            "Epoch 31/100\n",
            "209/209 [==============================] - 0s 2ms/step - loss: 4.9955e-05 - val_loss: 4.0657e-06\n",
            "Epoch 32/100\n",
            "209/209 [==============================] - 0s 2ms/step - loss: 3.1160e-05 - val_loss: 4.9971e-05\n",
            "Epoch 33/100\n",
            "209/209 [==============================] - 0s 2ms/step - loss: 2.5544e-05 - val_loss: 2.9529e-05\n",
            "Epoch 34/100\n",
            "209/209 [==============================] - 0s 2ms/step - loss: 1.2543e-05 - val_loss: 3.0544e-05\n",
            "Epoch 35/100\n",
            "209/209 [==============================] - 0s 2ms/step - loss: 1.0588e-05 - val_loss: 6.6147e-06\n",
            "Epoch 36/100\n",
            "209/209 [==============================] - 1s 2ms/step - loss: 2.1586e-05 - val_loss: 1.6255e-05\n",
            "Epoch 37/100\n",
            "209/209 [==============================] - 1s 3ms/step - loss: 1.6112e-05 - val_loss: 1.2977e-05\n",
            "Epoch 38/100\n",
            "209/209 [==============================] - 0s 2ms/step - loss: 1.9184e-05 - val_loss: 1.3604e-05\n",
            "Epoch 39/100\n",
            "209/209 [==============================] - 0s 2ms/step - loss: 2.5088e-05 - val_loss: 3.7467e-05\n",
            "Epoch 40/100\n",
            "209/209 [==============================] - 0s 2ms/step - loss: 2.2332e-05 - val_loss: 6.4454e-06\n",
            "Epoch 41/100\n",
            "209/209 [==============================] - 0s 2ms/step - loss: 5.4730e-05 - val_loss: 2.3126e-05\n",
            "Epoch 42/100\n",
            "209/209 [==============================] - 0s 2ms/step - loss: 1.2003e-05 - val_loss: 1.9782e-05\n",
            "Epoch 43/100\n",
            "209/209 [==============================] - 0s 2ms/step - loss: 6.4057e-05 - val_loss: 3.2771e-05\n",
            "Epoch 44/100\n",
            "209/209 [==============================] - 0s 2ms/step - loss: 3.0358e-05 - val_loss: 1.6620e-05\n",
            "Epoch 45/100\n",
            "209/209 [==============================] - 0s 2ms/step - loss: 1.3759e-05 - val_loss: 1.6518e-05\n",
            "Epoch 46/100\n",
            "209/209 [==============================] - 1s 3ms/step - loss: 1.0435e-05 - val_loss: 2.6197e-06\n",
            "Epoch 47/100\n",
            "209/209 [==============================] - 0s 2ms/step - loss: 2.9649e-05 - val_loss: 4.7376e-06\n",
            "Epoch 48/100\n",
            "209/209 [==============================] - 0s 2ms/step - loss: 2.0598e-05 - val_loss: 6.6975e-05\n",
            "Epoch 49/100\n",
            "209/209 [==============================] - 1s 3ms/step - loss: 1.5334e-05 - val_loss: 4.7362e-06\n",
            "Epoch 50/100\n",
            "209/209 [==============================] - 1s 3ms/step - loss: 8.9330e-06 - val_loss: 3.1192e-06\n",
            "Epoch 51/100\n",
            "209/209 [==============================] - 1s 3ms/step - loss: 1.2525e-05 - val_loss: 1.2988e-05\n",
            "Epoch 52/100\n",
            "209/209 [==============================] - 1s 3ms/step - loss: 8.7244e-05 - val_loss: 1.4380e-05\n",
            "Epoch 53/100\n",
            "209/209 [==============================] - 1s 3ms/step - loss: 2.4469e-05 - val_loss: 2.3094e-05\n",
            "Epoch 54/100\n",
            "209/209 [==============================] - 0s 2ms/step - loss: 2.7924e-05 - val_loss: 1.0006e-05\n",
            "Epoch 55/100\n",
            "209/209 [==============================] - 1s 3ms/step - loss: 1.6811e-05 - val_loss: 7.0063e-06\n",
            "Epoch 56/100\n",
            "209/209 [==============================] - 0s 2ms/step - loss: 8.3461e-06 - val_loss: 3.9398e-06\n",
            "Epoch 57/100\n",
            "209/209 [==============================] - 0s 2ms/step - loss: 1.9732e-05 - val_loss: 4.8165e-06\n",
            "Epoch 58/100\n",
            "209/209 [==============================] - 1s 3ms/step - loss: 2.5344e-05 - val_loss: 1.5994e-05\n",
            "Epoch 59/100\n",
            "209/209 [==============================] - 1s 3ms/step - loss: 3.7169e-05 - val_loss: 2.6251e-05\n",
            "Epoch 60/100\n",
            "209/209 [==============================] - 0s 2ms/step - loss: 3.9384e-05 - val_loss: 6.6658e-06\n",
            "Epoch 61/100\n",
            "209/209 [==============================] - 0s 2ms/step - loss: 2.2446e-05 - val_loss: 3.2732e-05\n",
            "Epoch 62/100\n",
            "209/209 [==============================] - 0s 2ms/step - loss: 2.1671e-05 - val_loss: 7.0181e-06\n",
            "Epoch 63/100\n",
            "209/209 [==============================] - 0s 2ms/step - loss: 4.7590e-05 - val_loss: 9.8428e-06\n",
            "Epoch 64/100\n",
            "209/209 [==============================] - 0s 2ms/step - loss: 2.0958e-05 - val_loss: 1.5512e-05\n",
            "Epoch 65/100\n",
            "209/209 [==============================] - 0s 2ms/step - loss: 1.6085e-05 - val_loss: 1.5619e-05\n",
            "Epoch 66/100\n",
            "209/209 [==============================] - 0s 2ms/step - loss: 4.5357e-05 - val_loss: 9.2933e-06\n",
            "Epoch 67/100\n",
            "209/209 [==============================] - 1s 3ms/step - loss: 2.3875e-05 - val_loss: 2.6675e-05\n",
            "Epoch 68/100\n",
            "209/209 [==============================] - 0s 2ms/step - loss: 1.8215e-05 - val_loss: 6.1432e-06\n",
            "Epoch 69/100\n",
            "209/209 [==============================] - 0s 2ms/step - loss: 1.5467e-05 - val_loss: 7.0379e-06\n",
            "Epoch 70/100\n",
            "209/209 [==============================] - 0s 2ms/step - loss: 2.6577e-05 - val_loss: 8.0654e-06\n",
            "Epoch 71/100\n",
            "209/209 [==============================] - 0s 2ms/step - loss: 2.2110e-05 - val_loss: 4.3485e-06\n",
            "Epoch 72/100\n",
            "209/209 [==============================] - 1s 3ms/step - loss: 1.0784e-05 - val_loss: 9.0480e-06\n",
            "Epoch 73/100\n",
            "209/209 [==============================] - 1s 6ms/step - loss: 3.1077e-05 - val_loss: 8.0268e-06\n",
            "Epoch 74/100\n",
            "209/209 [==============================] - 1s 6ms/step - loss: 1.1282e-05 - val_loss: 2.4295e-05\n",
            "Epoch 75/100\n",
            "209/209 [==============================] - 1s 7ms/step - loss: 2.2932e-05 - val_loss: 2.3304e-05\n",
            "Epoch 76/100\n",
            "209/209 [==============================] - 1s 6ms/step - loss: 5.6421e-05 - val_loss: 9.4188e-06\n",
            "Epoch 77/100\n",
            "209/209 [==============================] - 1s 6ms/step - loss: 1.7667e-05 - val_loss: 1.9483e-05\n",
            "Epoch 78/100\n",
            "209/209 [==============================] - 1s 3ms/step - loss: 1.7465e-05 - val_loss: 1.6610e-05\n",
            "Epoch 79/100\n",
            "209/209 [==============================] - 0s 2ms/step - loss: 2.8221e-05 - val_loss: 6.3933e-06\n",
            "Epoch 80/100\n",
            "209/209 [==============================] - 0s 2ms/step - loss: 1.4342e-05 - val_loss: 7.7796e-06\n",
            "Epoch 81/100\n",
            "209/209 [==============================] - 1s 2ms/step - loss: 1.4439e-05 - val_loss: 1.2436e-05\n",
            "Epoch 82/100\n",
            "209/209 [==============================] - 0s 2ms/step - loss: 1.1495e-05 - val_loss: 7.8522e-06\n",
            "Epoch 83/100\n",
            "209/209 [==============================] - 0s 2ms/step - loss: 1.8335e-05 - val_loss: 5.2303e-05\n",
            "Epoch 84/100\n",
            "209/209 [==============================] - 0s 2ms/step - loss: 1.8507e-05 - val_loss: 5.0875e-06\n",
            "Epoch 85/100\n",
            "209/209 [==============================] - 1s 2ms/step - loss: 2.0172e-05 - val_loss: 4.3251e-05\n",
            "Epoch 86/100\n",
            "209/209 [==============================] - 1s 3ms/step - loss: 2.1923e-05 - val_loss: 9.1700e-06\n",
            "Epoch 87/100\n",
            "209/209 [==============================] - 0s 2ms/step - loss: 1.3411e-05 - val_loss: 8.3834e-06\n",
            "Epoch 88/100\n",
            "209/209 [==============================] - 0s 2ms/step - loss: 2.6376e-05 - val_loss: 2.3897e-05\n",
            "Epoch 89/100\n",
            "209/209 [==============================] - 0s 2ms/step - loss: 2.5399e-05 - val_loss: 8.4172e-06\n",
            "Epoch 90/100\n",
            "209/209 [==============================] - 0s 2ms/step - loss: 1.5561e-05 - val_loss: 3.2179e-05\n",
            "Epoch 91/100\n",
            "209/209 [==============================] - 0s 2ms/step - loss: 2.8888e-05 - val_loss: 3.8068e-05\n",
            "Epoch 92/100\n",
            "209/209 [==============================] - 1s 3ms/step - loss: 3.3271e-05 - val_loss: 4.5446e-06\n",
            "Epoch 93/100\n",
            "209/209 [==============================] - 1s 3ms/step - loss: 1.6146e-05 - val_loss: 1.2155e-05\n",
            "Epoch 94/100\n",
            "209/209 [==============================] - 1s 3ms/step - loss: 2.5226e-05 - val_loss: 4.9899e-06\n",
            "Epoch 95/100\n",
            "209/209 [==============================] - 1s 4ms/step - loss: 1.7368e-05 - val_loss: 2.4308e-05\n",
            "Epoch 96/100\n",
            "209/209 [==============================] - 1s 3ms/step - loss: 1.0280e-05 - val_loss: 8.5515e-06\n",
            "Epoch 97/100\n",
            "209/209 [==============================] - 0s 2ms/step - loss: 2.5862e-05 - val_loss: 1.2212e-05\n",
            "Epoch 98/100\n",
            "209/209 [==============================] - 0s 2ms/step - loss: 2.1943e-05 - val_loss: 8.7928e-06\n",
            "Epoch 99/100\n",
            "209/209 [==============================] - 0s 2ms/step - loss: 1.4685e-05 - val_loss: 2.5646e-05\n",
            "Epoch 100/100\n",
            "209/209 [==============================] - 0s 2ms/step - loss: 2.5796e-05 - val_loss: 2.0523e-05\n"
          ]
        },
        {
          "output_type": "execute_result",
          "data": {
            "text/plain": [
              "<keras.callbacks.History at 0x7f4005a1c640>"
            ]
          },
          "metadata": {},
          "execution_count": 33
        }
      ],
      "source": [
        "model.fit(x_train, y_train, validation_data=(x_test,y_test),batch_size=8, epochs=100)"
      ]
    },
    {
      "cell_type": "code",
      "execution_count": null,
      "metadata": {
        "id": "69SiSKmrkQGi",
        "colab": {
          "base_uri": "https://localhost:8080/"
        },
        "outputId": "c9b1cb17-e0ee-4566-e344-9104dc9610d6"
      },
      "outputs": [
        {
          "output_type": "stream",
          "name": "stdout",
          "text": [
            "Model: \"sequential_2\"\n",
            "_________________________________________________________________\n",
            " Layer (type)                Output Shape              Param #   \n",
            "=================================================================\n",
            " dense_6 (Dense)             (None, 4)                 12        \n",
            "                                                                 \n",
            " dense_7 (Dense)             (None, 2)                 10        \n",
            "                                                                 \n",
            " dense_8 (Dense)             (None, 1)                 3         \n",
            "                                                                 \n",
            "=================================================================\n",
            "Total params: 25\n",
            "Trainable params: 25\n",
            "Non-trainable params: 0\n",
            "_________________________________________________________________\n"
          ]
        }
      ],
      "source": [
        "model.summary()\n",
        "from sklearn.metrics import r2_score\n",
        "from sklearn.metrics import mean_squared_error\n",
        "from sklearn.metrics import mean_absolute_error\n",
        "from math import sqrt"
      ]
    },
    {
      "cell_type": "code",
      "execution_count": null,
      "metadata": {
        "id": "3y4X2TxKj4bo",
        "colab": {
          "base_uri": "https://localhost:8080/"
        },
        "outputId": "a7e557d8-29f4-469d-bb3e-aed172cccd54"
      },
      "outputs": [
        {
          "output_type": "stream",
          "name": "stdout",
          "text": [
            "14/14 [==============================] - 0s 2ms/step\n",
            "Mean squared error     : 2.0523059452064487e-05\n",
            "Root Mean squared error: 0.004530238343847318\n",
            "Mean Absolute error    : 0.004078817776201271\n",
            "R2 score    : 0.9983679209024234\n"
          ]
        }
      ],
      "source": [
        "y_pred = model.predict(x_test)\n",
        "\n",
        "# print(y_pred*scale)\n",
        "MSE=mean_squared_error(y_test, y_pred)\n",
        "print(\"Mean squared error     :\", MSE)\n",
        "\n",
        "RMSE=sqrt(mean_squared_error(y_test, y_pred))\n",
        "print(\"Root Mean squared error:\", RMSE)\n",
        "\n",
        "MAE=mean_absolute_error(y_test, y_pred)\n",
        "print(\"Mean Absolute error    :\", MAE)\n",
        "\n",
        "print(\"R2 score    :\", r2_score(y_test,  y_pred))"
      ]
    },
    {
      "cell_type": "code",
      "source": [
        "model.save('Colpitts_model.h5')"
      ],
      "metadata": {
        "id": "EX_SdOsGVp3y"
      },
      "execution_count": null,
      "outputs": []
    },
    {
      "cell_type": "code",
      "execution_count": null,
      "metadata": {
        "id": "0II2Nnkac4i0",
        "colab": {
          "base_uri": "https://localhost:8080/"
        },
        "outputId": "f96fb126-e2f0-4e9c-a773-27022e541c57"
      },
      "outputs": [
        {
          "output_type": "stream",
          "name": "stdout",
          "text": [
            "[[1.0493929]\n",
            " [1.2369566]\n",
            " [1.0246425]\n",
            " [1.0995052]\n",
            " [1.2648269]\n",
            " [1.0924212]\n",
            " [1.27913  ]\n",
            " [1.2178614]\n",
            " [1.2652917]\n",
            " [1.0131289]]\n"
          ]
        }
      ],
      "source": [
        "print(y_pred[14:24])"
      ]
    },
    {
      "cell_type": "code",
      "execution_count": null,
      "metadata": {
        "id": "lJr0husFc9rm",
        "colab": {
          "base_uri": "https://localhost:8080/"
        },
        "outputId": "196d61e7-047a-4449-e19b-b0dc96d5937c"
      },
      "outputs": [
        {
          "output_type": "stream",
          "name": "stdout",
          "text": [
            "           0\n",
            "14  1.043652\n",
            "15  1.238064\n",
            "16  1.021900\n",
            "17  1.096814\n",
            "18  1.261454\n",
            "19  1.089184\n",
            "20  1.275271\n",
            "21  1.216825\n",
            "22  1.261628\n",
            "23  1.001383\n"
          ]
        }
      ],
      "source": [
        "print(y_test[14:24])"
      ]
    },
    {
      "cell_type": "code",
      "execution_count": null,
      "metadata": {
        "id": "jIAPBdIhwk0_",
        "colab": {
          "base_uri": "https://localhost:8080/"
        },
        "outputId": "74c10b0a-e03b-4f77-a5ad-238ee3318418"
      },
      "outputs": [
        {
          "output_type": "stream",
          "name": "stdout",
          "text": [
            "Weights and biases of the layers after training the model: \n",
            "\n",
            "dense_6\n",
            "Weights\n",
            "Shape:  (2, 4) \n",
            " [[ 8.4985942e-03 -4.8610666e-03  2.1839321e-03  5.8259163e-04]\n",
            " [ 6.2884718e-01  3.7706763e-01 -2.3587153e-04 -4.5336583e-01]]\n",
            "Bias\n",
            "Shape:  (4,) \n",
            " [-0.46556187  0.6006878  -0.00643603 -0.17260675] \n",
            "\n",
            "dense_7\n",
            "Weights\n",
            "Shape:  (4, 2) \n",
            " [[ 0.07293656 -0.74979895]\n",
            " [ 0.5258293   0.56097907]\n",
            " [-0.00783858 -0.06836054]\n",
            " [ 0.15467049  0.2779006 ]]\n",
            "Bias\n",
            "Shape:  (2,) \n",
            " [ 0.5245291  -0.52947783] \n",
            "\n",
            "dense_8\n",
            "Weights\n",
            "Shape:  (2, 1) \n",
            " [[ 0.62905735]\n",
            " [-0.7078987 ]]\n",
            "Bias\n",
            "Shape:  (1,) \n",
            " [0.6156947] \n",
            "\n"
          ]
        }
      ],
      "source": [
        "print(\"Weights and biases of the layers after training the model: \\n\")\n",
        "for layer in model.layers:\n",
        "  print(layer.name)\n",
        "  print(\"Weights\")\n",
        "  print(\"Shape: \",layer.get_weights()[0].shape,'\\n',layer.get_weights()[0])\n",
        "  print(\"Bias\")\n",
        "  print(\"Shape: \",layer.get_weights()[1].shape,'\\n',layer.get_weights()[1],'\\n')"
      ]
    },
    {
      "cell_type": "code",
      "metadata": {
        "id": "0Xn1-Rn9Cp_8",
        "colab": {
          "base_uri": "https://localhost:8080/"
        },
        "outputId": "2e2ab85a-80f0-4de2-c13e-ed0df1ea9ada"
      },
      "source": [
        "# Convert the model to the TensorFlow Lite format without quantization\n",
        "converter = tf.lite.TFLiteConverter.from_keras_model(model)\n",
        "tflite_model = converter.convert()\n",
        "\n",
        "# Save the model to disk\n",
        "open(\"Colpitts_model.tflite\", \"wb\").write(tflite_model)\n",
        "  \n",
        "import os\n",
        "basic_model_size = os.path.getsize(\"Colpitts_model.tflite\")\n",
        "print(\"Model is %d bytes\" % basic_model_size)\n",
        "  \n",
        "  "
      ],
      "execution_count": null,
      "outputs": [
        {
          "output_type": "stream",
          "name": "stderr",
          "text": [
            "WARNING:absl:Found untraced functions such as _update_step_xla, leaky_re_lu_4_layer_call_fn, leaky_re_lu_4_layer_call_and_return_conditional_losses, leaky_re_lu_5_layer_call_fn, leaky_re_lu_5_layer_call_and_return_conditional_losses while saving (showing 5 of 5). These functions will not be directly callable after loading.\n"
          ]
        },
        {
          "output_type": "stream",
          "name": "stdout",
          "text": [
            "Model is 2320 bytes\n"
          ]
        }
      ]
    },
    {
      "cell_type": "code",
      "metadata": {
        "id": "9J33uwpNtAku",
        "colab": {
          "base_uri": "https://localhost:8080/"
        },
        "outputId": "fed37510-99d6-49c1-d331-78397fb3b300"
      },
      "source": [
        "!echo \"const unsigned char model[] = {\" > /content/model.h\n",
        "!cat Colpitts_model.tflite | xxd -i      >> /content/model.h\n",
        "!echo \"};\"                              >> /content/model.h\n",
        "\n",
        "import os\n",
        "model_h_size = os.path.getsize(\"model.h\")\n",
        "print(f\"Header file, model.h, is {model_h_size:,} bytes.\")\n",
        "print(\"\\nOpen the side panel (refresh if needed). Double click model.h to download the file.\")"
      ],
      "execution_count": null,
      "outputs": [
        {
          "output_type": "stream",
          "name": "stdout",
          "text": [
            "Header file, model.h, is 14,342 bytes.\n",
            "\n",
            "Open the side panel (refresh if needed). Double click model.h to download the file.\n"
          ]
        }
      ]
    }
  ]
}